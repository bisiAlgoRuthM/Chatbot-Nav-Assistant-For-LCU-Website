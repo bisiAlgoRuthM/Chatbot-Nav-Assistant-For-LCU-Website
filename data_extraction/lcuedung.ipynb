{
 "cells": [
  {
   "cell_type": "code",
   "execution_count": 74,
   "metadata": {},
   "outputs": [],
   "source": [
    "from scrapy import Selector\n",
    "import requests\n",
    "import re\n",
    "import pandas as pd"
   ]
  },
  {
   "cell_type": "code",
   "execution_count": 17,
   "metadata": {},
   "outputs": [],
   "source": [
    "response = requests.get('https://lcu.edu.ng/index.php/all-courses')\n",
    "html = response.content\n"
   ]
  },
  {
   "cell_type": "code",
   "execution_count": 18,
   "metadata": {},
   "outputs": [],
   "source": [
    "selector = Selector(text=html)"
   ]
  },
  {
   "cell_type": "code",
   "execution_count": 65,
   "metadata": {},
   "outputs": [],
   "source": [
    "xpath = '//div[@class=\"card\"]/div[@class=\"card-top\"]/span'\n",
    "xpath2 = '//div[@class=\"card\"]//h1'"
   ]
  },
  {
   "cell_type": "code",
   "execution_count": 67,
   "metadata": {},
   "outputs": [],
   "source": [
    "course_list = links.xpath('text()').getall()"
   ]
  },
  {
   "cell_type": "code",
   "execution_count": 60,
   "metadata": {},
   "outputs": [],
   "source": [
    "price_list = links_price.xpath('text()').getall()"
   ]
  },
  {
   "cell_type": "code",
   "execution_count": 88,
   "metadata": {},
   "outputs": [
    {
     "name": "stdout",
     "output_type": "stream",
     "text": [
      "[850000, 850000, 850000, 850000, 850000, 850000, 850000, 850000, 650000, 4500000, 650000, 2500000, 1500000, 850000, 2500000, 350000, 2500000, 850000, 850000, 850000, 350000, 510000, 510000, 350000, 510000, 350000, 650000, 650000, 850000, 350000, 350000, 350000, 200000, 350000, 650000, 350000, 350000, 350000, 350000, 510000, 510000, 200000, 350000, 200000, 350000, 350000, 350000, 200000, 200000, 200000, 200000, 200000, 200000, 200000, 200000, 200000, 200000, 250000, 200000, 350000, 350000, 650000, 650000, 350000, 350000, 350000, 650000, 650000, 650000, 650000, 510000, 350000, 350000, 250000]\n"
     ]
    }
   ],
   "source": [
    "pricelist = []\n",
    "for price in price_list:\n",
    "    # Extract numbers with the Naira sign and comma\n",
    "    matches = re.findall(r'₦([\\d,]+)', price)\n",
    "    \n",
    "    if matches:\n",
    "        # Remove commas and convert to an integer\n",
    "        extracted_price = int(matches[0].replace(',', ''))\n",
    "        pricelist.append(extracted_price)\n",
    "\n",
    "print(pricelist)"
   ]
  },
  {
   "cell_type": "code",
   "execution_count": 73,
   "metadata": {},
   "outputs": [
    {
     "data": {
      "text/plain": [
       "['Civil Engineering',\n",
       " 'Mechanical Engineering',\n",
       " 'Software Engineering',\n",
       " 'Electrical Electronics Engineering',\n",
       " 'Telecomms Engineering',\n",
       " 'Computer Engineering',\n",
       " 'Brewing Science',\n",
       " 'Optometry',\n",
       " 'Geosciences',\n",
       " 'Medicine',\n",
       " 'Wood Product Engineering',\n",
       " 'Nursing Science',\n",
       " 'Dentistry',\n",
       " 'Physiotherapy',\n",
       " 'Pharmacy',\n",
       " 'Biochemistry',\n",
       " 'Law',\n",
       " 'Computer Sci with Economics',\n",
       " 'Computer Sci with Electronics',\n",
       " 'Computer & Info. Sci',\n",
       " 'Microbiology',\n",
       " 'Accounting',\n",
       " 'Business Administration',\n",
       " 'Economics',\n",
       " \"Politics & Int'l Relations\",\n",
       " 'Public Administration',\n",
       " 'Mass Comm. & Media Tech.',\n",
       " 'Public Health',\n",
       " 'Medical Lab. Science',\n",
       " 'Envr. Mgt & Toxicology',\n",
       " 'Science Lab. Technology',\n",
       " 'Entrepreneurship',\n",
       " 'Religious Studies',\n",
       " 'Estate Management',\n",
       " 'Architecture',\n",
       " 'Banking & Finance',\n",
       " 'Criminology & Security Studies',\n",
       " 'Library & Info. Science',\n",
       " 'Performing Arts & Film Studies',\n",
       " 'Human Anatomy',\n",
       " 'Physiology',\n",
       " 'Chemistry',\n",
       " 'Physics with Electronics',\n",
       " 'Biology',\n",
       " 'Marketing',\n",
       " 'Psychology',\n",
       " 'Sociology',\n",
       " 'Education Biology',\n",
       " 'Education Chemistry',\n",
       " 'Education Physics',\n",
       " 'Education English',\n",
       " 'Education Mathematics',\n",
       " 'Computer Sc. Education',\n",
       " 'Guidance & Counselling',\n",
       " 'Educational Management',\n",
       " 'Business Education',\n",
       " 'Social Studies',\n",
       " 'Office & Information Mgt',\n",
       " 'Human Kinetics & Sport Sci',\n",
       " 'Nutrition & Dietetics',\n",
       " 'Industrial Rel. & Personnel Mgt',\n",
       " 'Info. Sci. & Media Studies',\n",
       " 'Radiography',\n",
       " 'Health Info. Management',\n",
       " 'Community Health',\n",
       " 'Environmental Health Sc.',\n",
       " 'Information Systems',\n",
       " 'Information Technology',\n",
       " 'Forensic Science',\n",
       " 'Cyber Security',\n",
       " 'Tourism & Hospitality Management',\n",
       " 'Social Work',\n",
       " 'English & Literary Studies',\n",
       " 'Creative Arts and Design']"
      ]
     },
     "execution_count": 73,
     "metadata": {},
     "output_type": "execute_result"
    }
   ],
   "source": [
    "course_list"
   ]
  },
  {
   "cell_type": "code",
   "execution_count": 89,
   "metadata": {},
   "outputs": [],
   "source": [
    "course_price_df = pd.DataFrame({'degree_programme': course_list, 'Price':pricelist})"
   ]
  },
  {
   "cell_type": "code",
   "execution_count": 91,
   "metadata": {},
   "outputs": [
    {
     "name": "stdout",
     "output_type": "stream",
     "text": [
      "                      degree_programme   Price\n",
      "0                    Civil Engineering  850000\n",
      "1               Mechanical Engineering  850000\n",
      "2                 Software Engineering  850000\n",
      "3   Electrical Electronics Engineering  850000\n",
      "4                Telecomms Engineering  850000\n",
      "..                                 ...     ...\n",
      "69                      Cyber Security  650000\n",
      "70    Tourism & Hospitality Management  510000\n",
      "71                         Social Work  350000\n",
      "72          English & Literary Studies  350000\n",
      "73            Creative Arts and Design  250000\n",
      "\n",
      "[74 rows x 2 columns]\n"
     ]
    }
   ],
   "source": [
    "print(course_price_df)"
   ]
  },
  {
   "cell_type": "code",
   "execution_count": 92,
   "metadata": {},
   "outputs": [],
   "source": [
    "course_price_df.to_csv('programme_price_list_UG.csv')"
   ]
  }
 ],
 "metadata": {
  "kernelspec": {
   "display_name": "Python 3",
   "language": "python",
   "name": "python3"
  },
  "language_info": {
   "codemirror_mode": {
    "name": "ipython",
    "version": 3
   },
   "file_extension": ".py",
   "mimetype": "text/x-python",
   "name": "python",
   "nbconvert_exporter": "python",
   "pygments_lexer": "ipython3",
   "version": "3.10.2"
  },
  "orig_nbformat": 4
 },
 "nbformat": 4,
 "nbformat_minor": 2
}
